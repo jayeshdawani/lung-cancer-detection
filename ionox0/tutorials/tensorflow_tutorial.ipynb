{
 "cells": [
  {
   "cell_type": "code",
   "execution_count": null,
   "metadata": {
    "collapsed": true
   },
   "outputs": [],
   "source": [
    "import numpy as np\n",
    "import tensorflow as tf"
   ]
  },
  {
   "cell_type": "code",
   "execution_count": 2,
   "metadata": {
    "collapsed": false
   },
   "outputs": [
    {
     "data": {
      "text/plain": [
       "array([ 0.14671867,  0.93922566,  0.45411733,  0.40296594,  0.46513673,\n",
       "        0.73772721,  0.68947305,  0.18809309,  0.22704454,  0.45797064,\n",
       "        0.48607226,  0.64246909,  0.00193247,  0.46050111,  0.30972668,\n",
       "        0.70804389,  0.9673714 ,  0.78487008,  0.32484963,  0.18940371,\n",
       "        0.6074207 ,  0.45254679,  0.50638869,  0.06156191,  0.9346204 ,\n",
       "        0.67824659,  0.33661443,  0.73658894,  0.9821933 ,  0.45306319,\n",
       "        0.95014771,  0.15563649,  0.94576311,  0.15091478,  0.8197691 ,\n",
       "        0.09403567,  0.74634929,  0.59423508,  0.36858701,  0.9637573 ,\n",
       "        0.40215327,  0.49658396,  0.61794141,  0.14142743,  0.82149793,\n",
       "        0.00688617,  0.4520233 ,  0.41343364,  0.17445104,  0.4127581 ,\n",
       "        0.16229554,  0.09176187,  0.60922472,  0.42088885,  0.83000055,\n",
       "        0.08554894,  0.30031858,  0.92428382,  0.99807469,  0.26230411,\n",
       "        0.95237755,  0.86704259,  0.55722191,  0.12044908,  0.49876614,\n",
       "        0.31412001,  0.7692607 ,  0.939187  ,  0.88941815,  0.18816819,\n",
       "        0.50698509,  0.29589562,  0.23262635,  0.37493531,  0.63124371,\n",
       "        0.48210382,  0.74494627,  0.27444992,  0.01250201,  0.64419   ,\n",
       "        0.77185976,  0.74268062,  0.54938492,  0.42841224,  0.54997883,\n",
       "        0.43332205,  0.76406603,  0.53418789,  0.04106069,  0.58029589,\n",
       "        0.15073142,  0.92958596,  0.06906477,  0.77857022,  0.831122  ,\n",
       "        0.49743997,  0.05838965,  0.19136781,  0.36109297,  0.44609484])"
      ]
     },
     "execution_count": 2,
     "metadata": {},
     "output_type": "execute_result"
    }
   ],
   "source": [
    "np.random.rand(100)"
   ]
  },
  {
   "cell_type": "code",
   "execution_count": 14,
   "metadata": {
    "collapsed": false
   },
   "outputs": [
    {
     "data": {
      "text/plain": [
       "<tf.Tensor 'Variable_24/read:0' shape=(1,) dtype=float32>"
      ]
     },
     "execution_count": 14,
     "metadata": {},
     "output_type": "execute_result"
    }
   ],
   "source": [
    "# Create 100 phony x, y data points in NumPy, y = x * 0.1 + 0.3\n",
    "x_data = np.random.rand(100).astype(np.float32)\n",
    "y_data = x_data * 0.1 + 0.3\n",
    "\n",
    "# Try to find values for W and b that compute y_data = W * x_data + b\n",
    "# (We know that W should be 0.1 and b 0.3, but TensorFlow will\n",
    "# figure that out for us.)\n",
    "W = tf.Variable(tf.random_uniform([1], -1.0, 1.0))\n",
    "b = tf.Variable(tf.zeros([1]))\n",
    "y = W * x_data + b\n",
    "\n",
    "W.value()"
   ]
  },
  {
   "cell_type": "code",
   "execution_count": null,
   "metadata": {
    "collapsed": false
   },
   "outputs": [],
   "source": [
    "# Minimize the mean squared errors.\n",
    "loss = tf.reduce_mean(tf.square(y - y_data))\n",
    "optimizer = tf.train.GradientDescentOptimizer(0.5)\n",
    "train = optimizer.minimize(loss)\n",
    "\n",
    "# Before starting, initialize the variables.  We will 'run' this first.\n",
    "init = tf.global_variables_initializer()\n",
    "\n",
    "# Launch the graph.\n",
    "sess = tf.Session()\n",
    "sess.run(init)\n",
    "\n",
    "# Fit the line.\n",
    "for step in range(201):\n",
    "    sess.run(train)\n",
    "    if step % 20 == 0:\n",
    "        print(step, sess.run(W), sess.run(b))\n",
    "\n",
    "# Learns best fit is W: [0.1], b: [0.3]"
   ]
  },
  {
   "cell_type": "code",
   "execution_count": null,
   "metadata": {
    "collapsed": false
   },
   "outputs": [],
   "source": []
  }
 ],
 "metadata": {
  "kernelspec": {
   "display_name": "Python 2",
   "language": "python",
   "name": "python2"
  },
  "language_info": {
   "codemirror_mode": {
    "name": "ipython",
    "version": 2
   },
   "file_extension": ".py",
   "mimetype": "text/x-python",
   "name": "python",
   "nbconvert_exporter": "python",
   "pygments_lexer": "ipython2",
   "version": "2.7.10"
  }
 },
 "nbformat": 4,
 "nbformat_minor": 2
}
