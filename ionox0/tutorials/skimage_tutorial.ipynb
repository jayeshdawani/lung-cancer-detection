{
 "cells": [
  {
   "cell_type": "code",
   "execution_count": 16,
   "metadata": {
    "collapsed": false
   },
   "outputs": [],
   "source": [
    "import numpy as np\n",
    "from scipy.ndimage import gaussian_filter\n",
    "import matplotlib.pyplot as plt\n",
    "plt.rcParams['image.cmap'] = 'gray'\n",
    "\n",
    "from skimage import data\n",
    "from skimage import img_as_float\n",
    "from skimage.morphology import reconstruction\n",
    "\n",
    "# Convert to float: Important for subtraction latiner which won't work with uint8\n",
    "image = img_as_float(data.coins())\n",
    "image = gaussian_filter(image, 1)\n",
    "\n",
    "seed = np.copy(image)\n",
    "seed[1:-1, 1:-1] = image.min()\n",
    "mask = image\n",
    "\n",
    "dilated = reconstruction(seed, mask, method='dilation')"
   ]
  },
  {
   "cell_type": "code",
   "execution_count": 17,
   "metadata": {
    "collapsed": false
   },
   "outputs": [],
   "source": [
    "fig, (ax1, ax2, ax3) = plt.subplots(1, 3, figsize=(8, 2.5), sharex=True, sharey=True)\n",
    "\n",
    "ax1.imshow(image)\n",
    "ax1.set_title('original image')\n",
    "ax1.axis('off')\n",
    "ax1.set_adjustable('box-forced')\n",
    "\n",
    "ax2.imshow(dilated, vmin=image.min(), vmax=image.max())\n",
    "ax2.set_title('dilated')\n",
    "ax2.axis('off')\n",
    "ax2.set_adjustable('box-forced')\n",
    "\n",
    "ax3.imshow(image - dilated)\n",
    "ax3.set_title('image - dilated')\n",
    "ax3.axis('off')\n",
    "ax3.set_adjustable('box-forced')\n",
    "\n",
    "fig.tight_layout()"
   ]
  },
  {
   "cell_type": "code",
   "execution_count": 19,
   "metadata": {
    "collapsed": false
   },
   "outputs": [],
   "source": [
    "plt.show()`"
   ]
  },
  {
   "cell_type": "code",
   "execution_count": 20,
   "metadata": {
    "collapsed": false
   },
   "outputs": [],
   "source": [
    "h = 0.4\n",
    "seed = image - h\n",
    "dilated = reconstruction(seed, mask, method='dilation')\n",
    "hdome = image - dilated"
   ]
  },
  {
   "cell_type": "code",
   "execution_count": 21,
   "metadata": {
    "collapsed": false
   },
   "outputs": [],
   "source": [
    "fig, (ax1, ax2, ax3) = plt.subplots(1, 3, figsize=(8, 2.5))\n",
    "\n",
    "yslice = 197\n",
    "\n",
    "ax1.plot(mask[yslice], '0.5', label='mask')\n",
    "ax1.plot(seed[yslice], 'k', label='seed')\n",
    "ax1.plot(dilated[yslice], 'r', label='dilated')\n",
    "ax1.set_ylim(-0.2, 2)\n",
    "ax1.set_title('image slice')\n",
    "ax1.set_xticks([])\n",
    "ax1.legend()\n",
    "\n",
    "ax2.imshow(dilated, vmin=image.min(), vmax=image.max())\n",
    "ax2.axhline(yslice, color='r', alpha=0.4)\n",
    "ax2.set_title('dilated')\n",
    "ax2.axis('off')\n",
    "\n",
    "ax3.imshow(hdome)\n",
    "ax3.axhline(yslice, color='r', alpha=0.4)\n",
    "ax3.set_title('image - dilated')\n",
    "ax3.axis('off')\n",
    "\n",
    "fig.tight_layout()\n",
    "plt.show()"
   ]
  },
  {
   "cell_type": "code",
   "execution_count": 53,
   "metadata": {
    "collapsed": false
   },
   "outputs": [
    {
     "name": "stderr",
     "output_type": "stream",
     "text": [
      "/usr/local/lib/python2.7/site-packages/matplotlib/legend.py:633: UserWarning: Legend does not support [<matplotlib.lines.Line2D object at 0x119cea090>] instances.\n",
      "A proxy artist may be used instead.\n",
      "See: http://matplotlib.org/users/legend_guide.html#using-proxy-artist\n",
      "  \"#using-proxy-artist\".format(orig_handle)\n"
     ]
    }
   ],
   "source": [
    "x = np.linspace(0, 4 * np.pi)\n",
    "x_plot = plt.plot(x, label='x_plot')\n",
    "\n",
    "y_mask = np.cos(x)\n",
    "y_mask_plot = plt.plot(y_mask, label='y_mask')\n",
    "\n",
    "y_seed = y_mask.min() * np.ones_like(x)\n",
    "y_seed_plot = plt.plot(y_seed, label='y_seed')\n",
    "\n",
    "y_seed[0] = 0.5\n",
    "y_seed[-1] = 0\n",
    "y_rec = reconstruction(y_seed, y_mask)\n",
    "y_rec_plot = plt.plot(y_rec, label='y_rec')\n",
    "\n",
    "plt.legend([x_plot],['x_plot']) #, y_mask_plot, y_seed_plot, y_rec_plot])\n",
    "plt.show()"
   ]
  }
 ],
 "metadata": {
  "kernelspec": {
   "display_name": "Python 2",
   "language": "python",
   "name": "python2"
  },
  "language_info": {
   "codemirror_mode": {
    "name": "ipython",
    "version": 2
   },
   "file_extension": ".py",
   "mimetype": "text/x-python",
   "name": "python",
   "nbconvert_exporter": "python",
   "pygments_lexer": "ipython2",
   "version": "2.7.10"
  }
 },
 "nbformat": 4,
 "nbformat_minor": 0
}
