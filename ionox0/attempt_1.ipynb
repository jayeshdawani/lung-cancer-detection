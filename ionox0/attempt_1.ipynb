{
 "cells": [
  {
   "cell_type": "code",
   "execution_count": null,
   "metadata": {
    "collapsed": false,
    "deletable": true,
    "editable": true,
    "scrolled": false
   },
   "outputs": [],
   "source": [
    "import os\n",
    "import glob\n",
    "import dicom\n",
    "import numpy as np\n",
    "import pandas as pd\n",
    "\n",
    "import tensorflow\n",
    "from keras.models import Sequential\n",
    "from keras.layers.core import Dense, Dropout, Flatten\n",
    "from keras.layers.convolutional import Convolution3D, MaxPooling3D, ZeroPadding3D\n",
    "from keras.optimizers import SGD\n",
    "from keras.callbacks import EarlyStopping, ModelCheckpoint"
   ]
  },
  {
   "cell_type": "code",
   "execution_count": null,
   "metadata": {
    "collapsed": false,
    "deletable": true,
    "editable": true
   },
   "outputs": [],
   "source": [
    "def get_3d_data(path):\n",
    "    \"\"\"Get the 3D data for sample patients\"\"\"\n",
    "    # For each .dcm file\n",
    "    slices = [dicom.read_file(s) for s in glob.glob(path + '/*.dcm')]\n",
    "    slices.sort(key=lambda x: int(x.InstanceNumber))\n",
    "    return np.stack([s.pixel_array for s in slices])\n",
    "\n",
    "ct = []\n",
    "for path in glob.glob(os.path.join('../sample_images/', '*')):\n",
    "    # For each patient\n",
    "    ct.append(get_3d_data(path))"
   ]
  },
  {
   "cell_type": "code",
   "execution_count": null,
   "metadata": {
    "collapsed": false,
    "deletable": true,
    "editable": true
   },
   "outputs": [],
   "source": [
    "# Crop to 100 slices for now\n",
    "ct = [c[0:100,:,:] for c in ct]"
   ]
  },
  {
   "cell_type": "code",
   "execution_count": null,
   "metadata": {
    "collapsed": false,
    "deletable": true,
    "editable": true
   },
   "outputs": [],
   "source": [
    "def get_model():\n",
    "    model = Sequential()\n",
    "    model.add(Convolution3D(16, 1,3,3, input_shape=(1,100,512,512), activation='relu'))\n",
    "    model.add(Convolution3D(32, 1,3,3, activation='relu'))\n",
    "    model.add(MaxPooling3D(pool_size=(1,2,2)))\n",
    "    model.add(Convolution3D(32, 1,3,3, activation='relu'))\n",
    "    model.add(Convolution3D(64, 1,3,3, activation='relu'))\n",
    "    model.add(MaxPooling3D(pool_size=(1,2,2)))\n",
    "    model.add(Convolution3D(64, 1,3,3, activation='relu'))\n",
    "    model.add(Convolution3D(128, 1,3,3, activation='relu'))\n",
    "    model.add(MaxPooling3D(pool_size=(1,2,2)))\n",
    "    model.add(Convolution3D(128, 1,3,3, activation='relu'))\n",
    "    model.add(MaxPooling3D(pool_size=(1,2,2)))\n",
    "    model.add(Flatten())\n",
    "    model.add(Dense(512, activation='relu'))\n",
    "    model.add(Dropout(0.5))\n",
    "    model.add(Dense(1, activation='softmax'))\n",
    "    \n",
    "    model.compile(loss='mean_squared_error', optimizer='adadelta', metrics=['accuracy'])\n",
    "    return model"
   ]
  },
  {
   "cell_type": "code",
   "execution_count": null,
   "metadata": {
    "collapsed": false,
    "deletable": true,
    "editable": true
   },
   "outputs": [],
   "source": [
    "# Split data and labels\n",
    "labels = pd.read_csv('../stage1_labels.csv')\n",
    "labels = np.array(labels)\n",
    "\n",
    "x_train = np.array(ct[0:18])\n",
    "y_train = labels[0:18,1].reshape((-1, 1))\n",
    "x_test = ct[19]\n",
    "y_test = labels[19,1]"
   ]
  },
  {
   "cell_type": "code",
   "execution_count": null,
   "metadata": {
    "collapsed": false,
    "deletable": true,
    "editable": true
   },
   "outputs": [],
   "source": [
    "final_images = np.ndarray([18,1,100,512,512], dtype=np.float32)\n",
    "for i in range(18):\n",
    "    final_images[i,0] = x_train[i]\n",
    "final_images.shape"
   ]
  },
  {
   "cell_type": "code",
   "execution_count": null,
   "metadata": {
    "collapsed": false,
    "deletable": true,
    "editable": true
   },
   "outputs": [],
   "source": [
    "model = get_model()\n",
    "model.fit(final_images, y_train, batch_size=24, nb_epoch=1, #10\n",
    "          show_accuracy=True, verbose=1,\n",
    "          validation_data=(x_test, y_test))"
   ]
  },
  {
   "cell_type": "code",
   "execution_count": null,
   "metadata": {
    "collapsed": false
   },
   "outputs": [],
   "source": [
    "print(model.summary())\n",
    "print(model.weights)"
   ]
  }
 ],
 "metadata": {
  "kernelspec": {
   "display_name": "tfkernel",
   "language": "python",
   "name": "tfkernel"
  },
  "language_info": {
   "codemirror_mode": {
    "name": "ipython",
    "version": 2
   },
   "file_extension": ".py",
   "mimetype": "text/x-python",
   "name": "python",
   "nbconvert_exporter": "python",
   "pygments_lexer": "ipython2",
   "version": "2.7.10"
  }
 },
 "nbformat": 4,
 "nbformat_minor": 2
}
