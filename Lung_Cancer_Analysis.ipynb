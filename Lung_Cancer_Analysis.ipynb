{
 "cells": [
  {
   "cell_type": "code",
   "execution_count": 30,
   "metadata": {
    "collapsed": false
   },
   "outputs": [],
   "source": [
    "import numpy as np # linear algebra\n",
    "import pandas as pd # data processing, CSV file I/O (e.g. pd.read_csv)\n",
    "import matplotlib.pyplot as plt\n",
    "import seaborn as sns\n",
    "import os\n",
    "import glob\n",
    "%matplotlib inline\n",
    "\n",
    "p = sns.color_palette()\n",
    "\n",
    "os.listdir('./')\n",
    "\n",
    "seed = 42"
   ]
  },
  {
   "cell_type": "code",
   "execution_count": 6,
   "metadata": {
    "collapsed": false
   },
   "outputs": [
    {
     "name": "stdout",
     "output_type": "stream",
     "text": [
      "Patient '00cba091fa4ad62cc3200a657aeb957e' has 134 scans\n",
      "Patient '0a099f2549429d29b32f349e95fb2244' has 128 scans\n",
      "Patient '0a0c32c9e08cc2ea76a71649de56be6d' has 133 scans\n",
      "Patient '0a38e7597ca26f9374f8ea2770ba870d' has 110 scans\n",
      "Patient '0acbebb8d463b4b9ca88cf38431aac69' has 203 scans\n",
      "Patient '0b20184e0cd497028bdd155d9fb42dc9' has 196 scans\n",
      "Patient '0bd0e3056cbf23a1cb7f0f0b18446068' has 280 scans\n",
      "Patient '0c0de3749d4fe175b7a5098b060982a1' has 123 scans\n",
      "Patient '0c37613214faddf8701ca41e6d43f56e' has 164 scans\n",
      "Patient '0c59313f52304e25d5a7dcf9877633b1' has 244 scans\n",
      "Patient '0c60f4b87afcb3e2dfa65abbbf3ef2f9' has 136 scans\n",
      "Patient '0c98fcb55e3f36d0c2b6507f62f4c5f1' has 180 scans\n",
      "Patient '0c9d8314f9c69840e25febabb1229fa4' has 221 scans\n",
      "Patient '0ca943d821204ceb089510f836a367fd' has 147 scans\n",
      "Patient '0d06d764d3c07572074d468b4cff954f' has 435 scans\n",
      "Patient '0d19f1c627df49eb223771c28548350e' has 183 scans\n",
      "Patient '0d2fcf787026fece4e57be167d079383' has 126 scans\n",
      "Patient '0d941a3ad6c889ac451caf89c46cb92a' has 177 scans\n",
      "Patient '0ddeb08e9c97227853422bd71a2a695e' has 171 scans\n",
      "Patient '0de72529c30fe642bc60dcb75c87f6bd' has 113 scans\n",
      "----\n",
      "Total patients 21 Total DCM files 3604\n"
     ]
    }
   ],
   "source": [
    "for d in os.listdir('./sample_images'):\n",
    "    if '.DS_Store' not in d:\n",
    "        print(\"Patient '{}' has {} scans\".format(d, len(os.listdir('./sample_images/' + d))))\n",
    "print('----')\n",
    "print('Total patients {} Total DCM files {}'.format(len(os.listdir('./sample_images')), \n",
    "                                                      len(glob.glob('./sample_images/*/*.dcm'))))"
   ]
  },
  {
   "cell_type": "code",
   "execution_count": 7,
   "metadata": {
    "collapsed": false
   },
   "outputs": [
    {
     "data": {
      "text/plain": [
       "<matplotlib.text.Text at 0x116cee410>"
      ]
     },
     "execution_count": 7,
     "metadata": {},
     "output_type": "execute_result"
    },
    {
     "data": {
      "image/png": "[encoded data removed]",
      "text/plain": [
       "<matplotlib.figure.Figure at 0x116bf7ad0>"
      ]
     },
     "metadata": {},
     "output_type": "display_data"
    }
   ],
   "source": [
    "patient_sizes = [len(os.listdir('./sample_images/' + d)) for d in os.listdir('./sample_images') if '.DS_Store' not in d]\n",
    "plt.hist(patient_sizes, color=p[2])\n",
    "plt.ylabel('Number of patients')\n",
    "plt.xlabel('DICOM files')\n",
    "plt.title('Histogram of DICOM count per patient')"
   ]
  },
  {
   "cell_type": "markdown",
   "metadata": {},
   "source": [
    "# Training Set"
   ]
  },
  {
   "cell_type": "code",
   "execution_count": 8,
   "metadata": {
    "collapsed": false
   },
   "outputs": [
    {
     "data": {
      "text/html": [
       "<div>\n",
       "<table border=\"1\" class=\"dataframe\">\n",
       "  <thead>\n",
       "    <tr style=\"text-align: right;\">\n",
       "      <th></th>\n",
       "      <th>id</th>\n",
       "      <th>cancer</th>\n",
       "    </tr>\n",
       "  </thead>\n",
       "  <tbody>\n",
       "    <tr>\n",
       "      <th>0</th>\n",
       "      <td>0015ceb851d7251b8f399e39779d1e7d</td>\n",
       "      <td>1</td>\n",
       "    </tr>\n",
       "    <tr>\n",
       "      <th>1</th>\n",
       "      <td>0030a160d58723ff36d73f41b170ec21</td>\n",
       "      <td>0</td>\n",
       "    </tr>\n",
       "    <tr>\n",
       "      <th>2</th>\n",
       "      <td>003f41c78e6acfa92430a057ac0b306e</td>\n",
       "      <td>0</td>\n",
       "    </tr>\n",
       "    <tr>\n",
       "      <th>3</th>\n",
       "      <td>006b96310a37b36cccb2ab48d10b49a3</td>\n",
       "      <td>1</td>\n",
       "    </tr>\n",
       "    <tr>\n",
       "      <th>4</th>\n",
       "      <td>008464bb8521d09a42985dd8add3d0d2</td>\n",
       "      <td>1</td>\n",
       "    </tr>\n",
       "  </tbody>\n",
       "</table>\n",
       "</div>"
      ],
      "text/plain": [
       "                                 id  cancer\n",
       "0  0015ceb851d7251b8f399e39779d1e7d       1\n",
       "1  0030a160d58723ff36d73f41b170ec21       0\n",
       "2  003f41c78e6acfa92430a057ac0b306e       0\n",
       "3  006b96310a37b36cccb2ab48d10b49a3       1\n",
       "4  008464bb8521d09a42985dd8add3d0d2       1"
      ]
     },
     "execution_count": 8,
     "metadata": {},
     "output_type": "execute_result"
    }
   ],
   "source": [
    "df_train = pd.read_csv('./stage1_labels.csv')\n",
    "df_train.head()"
   ]
  },
  {
   "cell_type": "code",
   "execution_count": 9,
   "metadata": {
    "collapsed": false
   },
   "outputs": [
    {
     "name": "stdout",
     "output_type": "stream",
     "text": [
      "Number of training patients: 1397\n",
      "Cancer rate: 25.91%\n"
     ]
    }
   ],
   "source": [
    "print('Number of training patients: {}'.format(len(df_train)))\n",
    "print('Cancer rate: {:.4}%'.format(df_train.cancer.mean()*100))"
   ]
  },
  {
   "cell_type": "markdown",
   "metadata": {},
   "source": [
    "# Naive Submission\n",
    "Since the evaluation metric used in this competition is LogLoss and not something like AUC, this means that we can often gain an improvement just by aligning the probabilities of our sample submission to that of the training set.\n",
    "Before I try making a naive submission, I will calculate what the score of this submission would be on the training set to get a comparison."
   ]
  },
  {
   "cell_type": "code",
   "execution_count": 10,
   "metadata": {
    "collapsed": false
   },
   "outputs": [
    {
     "name": "stdout",
     "output_type": "stream",
     "text": [
      "Training logloss is 0.572141489479\n"
     ]
    }
   ],
   "source": [
    "from sklearn.metrics import log_loss\n",
    "logloss = log_loss(df_train.cancer, np.zeros_like(df_train.cancer) + df_train.cancer.mean())\n",
    "print('Training logloss is {}'.format(logloss))"
   ]
  },
  {
   "cell_type": "code",
   "execution_count": 11,
   "metadata": {
    "collapsed": false
   },
   "outputs": [],
   "source": [
    "# sample = pd.read_csv('./stage1_sample_submission.csv')\n",
    "# sample['cancer'] = df_train.cancer.mean()\n",
    "# sample.to_csv('naive_submission.csv', index=False)"
   ]
  },
  {
   "cell_type": "markdown",
   "metadata": {},
   "source": [
    "# Looking at images"
   ]
  },
  {
   "cell_type": "code",
   "execution_count": 12,
   "metadata": {
    "collapsed": false
   },
   "outputs": [],
   "source": [
    "import dicom"
   ]
  },
  {
   "cell_type": "code",
   "execution_count": 13,
   "metadata": {
    "collapsed": false
   },
   "outputs": [
    {
     "name": "stdout",
     "output_type": "stream",
     "text": [
      "Filename: ./0a67f9edb4915467ac16a565955898d3.dcm\n"
     ]
    }
   ],
   "source": [
    "dcm = './0a67f9edb4915467ac16a565955898d3.dcm'\n",
    "print('Filename: {}'.format(dcm))\n",
    "dcm = dicom.read_file(dcm)"
   ]
  },
  {
   "cell_type": "code",
   "execution_count": 14,
   "metadata": {
    "collapsed": false
   },
   "outputs": [
    {
     "name": "stdout",
     "output_type": "stream",
     "text": [
      "(0008, 0005) Specific Character Set              CS: 'ISO_IR 100'\n",
      "(0008, 0016) SOP Class UID                       UI: CT Image Storage\n",
      "(0008, 0018) SOP Instance UID                    UI: 1.2.840.113654.2.55.240087524148038410985780799448670801102\n",
      "(0008, 0060) Modality                            CS: 'CT'\n",
      "(0008, 103e) Series Description                  LO: 'Axial'\n",
      "(0010, 0010) Patient's Name                      PN: '0a0c32c9e08cc2ea76a71649de56be6d'\n",
      "(0010, 0020) Patient ID                          LO: '0a0c32c9e08cc2ea76a71649de56be6d'\n",
      "(0010, 0030) Patient's Birth Date                DA: '19000101'\n",
      "(0018, 0060) KVP                                 DS: ''\n",
      "(0020, 000d) Study Instance UID                  UI: 2.25.60037070027156423276159501017920151735078954137544798194660\n",
      "(0020, 000e) Series Instance UID                 UI: 2.25.58703274222857573910779974742342423982066946347485459782406\n",
      "(0020, 0011) Series Number                       IS: '1'\n",
      "(0020, 0012) Acquisition Number                  IS: '1'\n",
      "(0020, 0013) Instance Number                     IS: '45'\n",
      "(0020, 0020) Patient Orientation                 CS: ''\n",
      "(0020, 0032) Image Position (Patient)            DS: ['-160.100006', '-142.500000', '-93.410004']\n",
      "(0020, 0037) Image Orientation (Patient)         DS: ['1', '0', '0', '0', '1', '0']\n",
      "(0020, 0052) Frame of Reference UID              UI: 2.25.10816424791949633522058525471061381137400269917518537485573\n",
      "(0020, 1040) Position Reference Indicator        LO: 'SN'\n",
      "(0020, 1041) Slice Location                      DS: '-93.410004'\n",
      "(0028, 0002) Samples per Pixel                   US: 1\n",
      "(0028, 0004) Photometric Interpretation          CS: 'MONOCHROME2'\n",
      "(0028, 0006) Planar Configuration                US: 0\n",
      "(0028, 0010) Rows                                US: 512\n",
      "(0028, 0011) Columns                             US: 512\n",
      "(0028, 0030) Pixel Spacing                       DS: ['0.664062', '0.664062']\n",
      "(0028, 0100) Bits Allocated                      US: 16\n",
      "(0028, 0101) Bits Stored                         US: 12\n",
      "(0028, 0102) High Bit                            US: 11\n",
      "(0028, 0103) Pixel Representation                US: 0\n",
      "(0028, 0120) Pixel Padding Value                 US: 0\n",
      "(0028, 1050) Window Center                       DS: '40'\n",
      "(0028, 1051) Window Width                        DS: '400'\n",
      "(0028, 1052) Rescale Intercept                   DS: '-1024'\n",
      "(0028, 1053) Rescale Slope                       DS: '1'\n",
      "(0028, 1054) Rescale Type                        LO: 'HU'\n",
      "(7fe0, 0010) Pixel Data                          OW: Array of 524288 bytes\n"
     ]
    }
   ],
   "source": [
    "print dcm"
   ]
  },
  {
   "cell_type": "code",
   "execution_count": 15,
   "metadata": {
    "collapsed": false
   },
   "outputs": [
    {
     "name": "stdout",
     "output_type": "stream",
     "text": [
      "-93.410004\n",
      "[[0 0 0 ..., 0 0 0]\n",
      " [0 0 0 ..., 0 0 0]\n",
      " [0 0 0 ..., 0 0 0]\n",
      " ..., \n",
      " [0 0 0 ..., 0 0 0]\n",
      " [0 0 0 ..., 0 0 0]\n",
      " [0 0 0 ..., 0 0 0]]\n"
     ]
    },
    {
     "data": {
      "image/png": "[encoded data removed]",
      "text/plain": [
       "<matplotlib.figure.Figure at 0x104005650>"
      ]
     },
     "metadata": {},
     "output_type": "display_data"
    },
    {
     "data": {
      "image/png": "[encoded data removed]",
      "text/plain": [
       "<matplotlib.figure.Figure at 0x119e87f90>"
      ]
     },
     "metadata": {},
     "output_type": "display_data"
    }
   ],
   "source": [
    "img = dcm.pixel_array\n",
    "print dcm.SliceLocation  \n",
    "img[img == -2000] = 0\n",
    "print img\n",
    "\n",
    "plt.axis('off')\n",
    "plt.imshow(img)\n",
    "plt.show()\n",
    "\n",
    "plt.axis('off')\n",
    "plt.imshow(-img) # Invert colors with -\n",
    "plt.show()"
   ]
  },
  {
   "cell_type": "code",
   "execution_count": 16,
   "metadata": {
    "collapsed": false
   },
   "outputs": [
    {
     "name": "stdout",
     "output_type": "stream",
     "text": [
      "                                 id  cancer\n",
      "0  0015ceb851d7251b8f399e39779d1e7d       1\n",
      "1  0030a160d58723ff36d73f41b170ec21       0\n",
      "2  003f41c78e6acfa92430a057ac0b306e       0\n",
      "3  006b96310a37b36cccb2ab48d10b49a3       1\n",
      "4  008464bb8521d09a42985dd8add3d0d2       1\n"
     ]
    }
   ],
   "source": [
    "labels = pd.read_csv('stage1_labels.csv')\n",
    "print labels.head()"
   ]
  },
  {
   "cell_type": "code",
   "execution_count": 17,
   "metadata": {
    "collapsed": false
   },
   "outputs": [],
   "source": [
    "# import csv\n",
    "# features = open('features.csv', 'wb')\n",
    "# wr = csv.writer(features)"
   ]
  },
  {
   "cell_type": "code",
   "execution_count": 39,
   "metadata": {
    "collapsed": false,
    "scrolled": true
   },
   "outputs": [
    {
     "name": "stdout",
     "output_type": "stream",
     "text": [
      "starting with new patient 00cba091fa4ad62cc3200a657aeb957e\n",
      "starting with new patient 0a099f2549429d29b32f349e95fb2244\n",
      "starting with new patient 0a0c32c9e08cc2ea76a71649de56be6d\n",
      "starting with new patient 0a38e7597ca26f9374f8ea2770ba870d\n",
      "starting with new patient 0acbebb8d463b4b9ca88cf38431aac69\n",
      "starting with new patient 0bd0e3056cbf23a1cb7f0f0b18446068\n",
      "starting with new patient 0c0de3749d4fe175b7a5098b060982a1\n",
      "starting with new patient 0c37613214faddf8701ca41e6d43f56e\n",
      "starting with new patient 0c59313f52304e25d5a7dcf9877633b1\n",
      "starting with new patient 0c60f4b87afcb3e2dfa65abbbf3ef2f9\n",
      "starting with new patient 0c98fcb55e3f36d0c2b6507f62f4c5f1\n",
      "starting with new patient 0c9d8314f9c69840e25febabb1229fa4\n",
      "starting with new patient 0ca943d821204ceb089510f836a367fd\n",
      "starting with new patient 0d06d764d3c07572074d468b4cff954f\n",
      "starting with new patient 0d19f1c627df49eb223771c28548350e\n",
      "starting with new patient 0d2fcf787026fece4e57be167d079383\n",
      "starting with new patient 0d941a3ad6c889ac451caf89c46cb92a\n",
      "starting with new patient 0ddeb08e9c97227853422bd71a2a695e\n",
      "starting with new patient 0de72529c30fe642bc60dcb75c87f6bd\n"
     ]
    }
   ],
   "source": [
    "a = []\n",
    "b = []\n",
    "ids = []\n",
    "imgs = []\n",
    "for i in os.listdir('./sample_images/'):\n",
    "    if '.DS_Store' not in i and '0b20184e0cd497028bdd155d9fb42dc9' not in i:\n",
    "        print \"starting with new patient\", i\n",
    "        label = int(labels[labels['id'] == i]['cancer'])\n",
    "#         print label\n",
    "        for j in os.listdir('./sample_images/'+i):\n",
    "            ids.append(i)\n",
    "            imgs.append(j)\n",
    "            b.append(label)\n",
    "            dcm = dicom.read_file('./sample_images/'+i+'/'+j)\n",
    "            img = dcm.pixel_array\n",
    "            img[img == -2000] = 0\n",
    "            img = np.sum(img, axis=1) ## sum of each row\n",
    "#             print img.shape\n",
    "            img = list(img.flatten())\n",
    "            loca = float(dcm.SliceLocation)\n",
    "            img.extend([loca])\n",
    "            a.append(img)\n",
    "\n",
    "#             break\n",
    "#         break\n",
    "df = pd.DataFrame()\n",
    "df['id'] = ids\n",
    "df['image'] = imgs\n",
    "df['label'] = b\n",
    "df['feat'] = a\n",
    "\n",
    "X = a\n",
    "Y = b "
   ]
  },
  {
   "cell_type": "code",
   "execution_count": 19,
   "metadata": {
    "collapsed": false
   },
   "outputs": [],
   "source": [
    "from sklearn.ensemble import RandomForestClassifier\n",
    "from sklearn.cross_validation import train_test_split\n",
    "from sklearn.metrics import accuracy_score\n"
   ]
  },
  {
   "cell_type": "code",
   "execution_count": 41,
   "metadata": {
    "collapsed": false
   },
   "outputs": [
    {
     "name": "stdout",
     "output_type": "stream",
     "text": [
      "3408\n"
     ]
    }
   ],
   "source": [
    "# df = pd.read_csv('./features.csv')\n",
    "# X = np.arrray(df)\n",
    "print len(df)"
   ]
  },
  {
   "cell_type": "code",
   "execution_count": 89,
   "metadata": {
    "collapsed": false
   },
   "outputs": [
    {
     "name": "stdout",
     "output_type": "stream",
     "text": [
      "20\n"
     ]
    }
   ],
   "source": [
    "# X_train, X_test, y_train, y_test = train_test_split(X, Y, test_size=0.50, random_state=seed)\n",
    "\n",
    "patients = [i for i in os.listdir('./sample_images/') if '.DS_Store' not in i]\n",
    "print len(patients)\n",
    "patients_train = np.random.choice(patients, 15)\n",
    "\n",
    "X_train = []\n",
    "y_train = []\n",
    "X_test = []\n",
    "y_test = []\n",
    "\n",
    "for i in range(len(df)):\n",
    "    if df['id'][i] in patients_train:\n",
    "        X_train.append(np.array(df['feat'][i]))\n",
    "        y_train.append(df['label'][i])\n",
    "    else:\n",
    "        X_test.append(np.array(df['feat'][i]))\n",
    "        y_test.append(df['label'][i])\n"
   ]
  },
  {
   "cell_type": "code",
   "execution_count": 90,
   "metadata": {
    "collapsed": false
   },
   "outputs": [
    {
     "name": "stdout",
     "output_type": "stream",
     "text": [
      "accuracy score 0.573326248672\n",
      "[0 0 0 ..., 0 0 1] [0, 0, 0, 0, 0, 0, 0, 0, 0, 0, 0, 0, 0, 0, 0, 0, 0, 0, 0, 0, 0, 0, 0, 0, 0, 0, 0, 0, 0, 0, 0, 0, 0, 0, 0, 0, 0, 0, 0, 0, 0, 0, 0, 0, 0, 0, 0, 0, 0, 0, 0, 0, 0, 0, 0, 0, 0, 0, 0, 0, 0, 0, 0, 0, 0, 0, 0, 0, 0, 0, 0, 0, 0, 0, 0, 0, 0, 0, 0, 0, 0, 0, 0, 0, 0, 0, 0, 0, 0, 0, 0, 0, 0, 0, 0, 0, 0, 0, 0, 0, 0, 0, 0, 0, 0, 0, 0, 0, 0, 0, 0, 0, 0, 0, 0, 0, 0, 0, 0, 0, 0, 0, 0, 0, 0, 0, 0, 0, 0, 0, 0, 0, 0, 0, 0, 0, 0, 0, 0, 0, 0, 0, 0, 0, 0, 0, 0, 0, 0, 0, 0, 0, 0, 0, 0, 0, 0, 0, 0, 0, 0, 0, 0, 0, 0, 0, 0, 0, 0, 0, 0, 0, 0, 0, 0, 0, 0, 0, 0, 0, 0, 0, 0, 0, 0, 0, 0, 0, 0, 0, 0, 0, 0, 0, 0, 0, 0, 0, 0, 0, 0, 0, 0, 0, 0, 0, 0, 0, 0, 0, 0, 0, 0, 0, 0, 0, 0, 0, 0, 0, 0, 0, 0, 0, 0, 0, 0, 0, 0, 0, 0, 0, 0, 0, 0, 0, 0, 0, 0, 0, 0, 0, 0, 0, 0, 0, 0, 0, 0, 0, 0, 0, 0, 0, 0, 0, 0, 0, 0, 0, 0, 0, 0, 0, 0, 0, 0, 0, 0, 0, 0, 0, 0, 0, 0, 0, 0, 0, 0, 0, 1, 1, 1, 1, 1, 1, 1, 1, 1, 1, 1, 1, 1, 1, 1, 1, 1, 1, 1, 1, 1, 1, 1, 1, 1, 1, 1, 1, 1, 1, 1, 1, 1, 1, 1, 1, 1, 1, 1, 1, 1, 1, 1, 1, 1, 1, 1, 1, 1, 1, 1, 1, 1, 1, 1, 1, 1, 1, 1, 1, 1, 1, 1, 1, 1, 1, 1, 1, 1, 1, 1, 1, 1, 1, 1, 1, 1, 1, 1, 1, 1, 1, 1, 1, 1, 1, 1, 1, 1, 1, 1, 1, 1, 1, 1, 1, 1, 1, 1, 1, 1, 1, 1, 1, 1, 1, 1, 1, 1, 1, 1, 1, 1, 1, 1, 1, 1, 1, 1, 1, 1, 1, 1, 1, 1, 1, 1, 1, 1, 1, 1, 1, 1, 1, 1, 1, 1, 1, 1, 1, 1, 1, 1, 1, 1, 1, 1, 1, 1, 1, 1, 1, 1, 1, 1, 1, 1, 1, 1, 1, 1, 1, 1, 1, 1, 1, 1, 1, 1, 1, 1, 1, 1, 1, 1, 1, 1, 1, 1, 1, 1, 1, 1, 1, 1, 1, 1, 1, 1, 1, 1, 1, 1, 1, 1, 1, 1, 1, 1, 1, 1, 1, 1, 1, 1, 1, 1, 1, 1, 1, 1, 1, 1, 1, 1, 1, 1, 1, 1, 1, 1, 1, 1, 1, 1, 1, 1, 1, 1, 1, 1, 1, 1, 1, 1, 1, 1, 1, 1, 1, 1, 1, 1, 1, 1, 1, 1, 1, 1, 1, 1, 1, 1, 1, 1, 1, 1, 1, 1, 1, 1, 1, 1, 1, 1, 1, 1, 1, 1, 1, 1, 1, 1, 1, 1, 1, 1, 1, 1, 1, 1, 1, 1, 1, 1, 1, 1, 0, 0, 0, 0, 0, 0, 0, 0, 0, 0, 0, 0, 0, 0, 0, 0, 0, 0, 0, 0, 0, 0, 0, 0, 0, 0, 0, 0, 0, 0, 0, 0, 0, 0, 0, 0, 0, 0, 0, 0, 0, 0, 0, 0, 0, 0, 0, 0, 0, 0, 0, 0, 0, 0, 0, 0, 0, 0, 0, 0, 0, 0, 0, 0, 0, 0, 0, 0, 0, 0, 0, 0, 0, 0, 0, 0, 0, 0, 0, 0, 0, 0, 0, 0, 0, 0, 0, 0, 0, 0, 0, 0, 0, 0, 0, 0, 0, 0, 0, 0, 0, 0, 0, 0, 0, 0, 0, 0, 0, 0, 0, 0, 0, 0, 0, 0, 0, 0, 0, 0, 0, 0, 0, 0, 0, 0, 0, 0, 0, 0, 0, 0, 0, 0, 0, 0, 0, 0, 0, 0, 0, 0, 0, 0, 0, 0, 0, 0, 0, 0, 0, 0, 0, 0, 0, 0, 0, 0, 0, 0, 0, 0, 0, 0, 0, 0, 0, 0, 0, 0, 0, 0, 0, 0, 0, 0, 0, 0, 0, 0, 0, 0, 0, 0, 0, 0, 0, 0, 0, 0, 0, 0, 0, 0, 0, 0, 0, 0, 0, 0, 0, 0, 0, 0, 0, 0, 0, 0, 0, 0, 0, 0, 0, 0, 0, 0, 0, 0, 0, 0, 0, 0, 0, 0, 0, 0, 0, 0, 0, 0, 0, 0, 0, 0, 0, 0, 0, 0, 0, 0, 0, 0, 0, 0, 0, 0, 0, 0, 0, 0, 0, 0, 0, 0, 0, 0, 0, 0, 0, 0, 0, 0, 0, 0, 0, 0, 0, 0, 0, 0, 0, 0, 0, 0, 0, 0, 0, 0, 0, 0, 0, 0, 0, 0, 0, 0, 0, 0, 0, 0, 0, 0, 0, 0, 0, 0, 0, 0, 0, 0, 0, 0, 0, 0, 0, 0, 0, 0, 0, 0, 0, 0, 0, 0, 0, 0, 0, 0, 0, 0, 0, 0, 0, 0, 0, 0, 0, 0, 0, 0, 0, 0, 0, 0, 0, 0, 0, 0, 0, 0, 0, 0, 0, 0, 0, 0, 0, 0, 0, 0, 0, 0, 0, 0, 0, 0, 0, 0, 0, 0, 0, 0, 0, 0, 0, 0, 0, 0, 0, 0, 0, 0, 0, 0, 0, 0, 0, 0, 0, 0, 0, 0, 0, 0, 0, 0, 0, 0, 0, 0, 0, 0, 0, 0, 0, 0, 0, 0, 0, 0, 0, 0, 0, 0, 0, 0, 0, 0, 0, 0, 0, 0, 0, 0, 0, 0, 0, 0, 0, 0, 0, 0, 0, 0, 0, 0, 0, 0, 0, 0, 0, 0, 0, 0, 0, 0, 0, 0, 0, 0, 0, 0, 0, 0, 0, 0, 0, 0, 0, 0, 0, 0, 0, 0, 0, 0, 0, 0, 0, 0, 0, 0, 0, 0, 0, 0, 0, 0, 0, 0, 0, 0, 0, 0, 0, 0, 0, 0, 0, 0, 0, 0, 0, 0, 0, 0, 0, 0, 0, 0, 0, 0, 0, 0, 0, 0, 0, 0, 0, 0, 0, 0, 0, 0, 0, 0, 0, 0, 0, 0, 0, 0, 0, 0, 0, 0, 0, 0, 0, 0, 0, 0, 0, 0, 0, 0, 0, 0, 0, 0, 0, 0, 0, 0, 0, 0, 0, 0, 0, 0, 0, 0, 0, 0, 0, 0, 0, 0, 0, 0, 0, 0, 0, 0, 0, 0, 0, 0, 0, 0, 0, 0, 0, 0, 0, 0, 0, 0, 0, 0, 0, 1, 1, 1, 1, 1, 1, 1, 1, 1, 1, 1, 1, 1, 1, 1, 1, 1, 1, 1, 1, 1, 1, 1, 1, 1, 1, 1, 1, 1, 1, 1, 1, 1, 1, 1, 1, 1, 1, 1, 1, 1, 1, 1, 1, 1, 1, 1, 1, 1, 1, 1, 1, 1, 1, 1, 1, 1, 1, 1, 1, 1, 1, 1, 1, 1, 1, 1, 1, 1, 1, 1, 1, 1, 1, 1, 1, 1, 1, 1, 1, 1, 1, 1, 1, 1, 1, 1, 1, 1, 1, 1, 1, 1, 1, 1, 1, 1, 1, 1, 1, 1, 1, 1, 1, 1, 1, 1, 1, 1, 1, 1, 1, 1, 1, 1, 1, 1, 1, 1, 1, 1, 1, 1, 1, 1, 1, 1, 1, 1, 1, 1, 1, 1, 1, 1, 1, 1, 1, 1, 1, 1, 1, 1, 1, 1, 1, 1, 1, 1, 1, 1, 1, 1, 1, 1, 1, 1, 1, 1, 1, 1, 1, 1, 1, 1, 1, 1, 1, 1, 1, 1, 1, 1, 1, 1, 1, 1, 1, 1, 1, 1, 1, 1, 1, 1, 1, 1, 1, 1, 1, 1, 1, 1, 1, 1, 1, 1, 1, 1, 1, 1, 1, 1, 1, 1, 1, 1, 1, 1, 1, 1, 1, 1, 1, 1, 1, 1, 1, 1, 1, 1, 1, 1, 1, 1, 1, 1, 1, 1, 1, 1, 1, 1, 1, 1, 1, 1, 1, 1, 1, 1, 1, 1, 1, 1, 1, 1, 1, 1, 1, 1, 1, 1, 1, 1, 1, 1, 1, 1, 1, 1, 1, 1, 1, 1, 1, 1, 1, 1, 1, 1, 1, 1, 1, 1, 1, 1, 1, 1, 1, 1, 1, 1, 1, 1, 1, 1, 1, 1, 1, 1, 1, 1, 1, 1, 1, 1, 1, 1, 1, 1, 1, 1, 1, 1, 1, 1, 1, 1, 1, 1, 1, 1, 1, 1, 1, 1, 1, 1, 1, 1, 1, 1, 1, 1, 1, 1, 1, 1, 1, 1, 1, 1, 1, 1, 1, 1, 1, 1, 1, 1, 1, 1, 1, 1, 1, 1, 1, 1, 1, 1, 1, 1, 1, 1, 1, 1, 1, 1, 1, 1, 1, 1, 1, 1, 1, 1, 1, 1, 1, 1, 1, 1, 1, 1, 1, 1, 1, 1, 1, 1, 1, 1, 1, 1, 1, 1, 1, 1, 1, 1, 1, 1, 1, 1, 1, 1, 1, 1, 1, 1, 1, 1, 1, 1, 1, 1, 1, 1, 1, 1, 1, 1, 1, 1, 1, 1, 1, 1, 1, 1, 1, 1, 1, 1, 1, 1, 1, 1, 1, 1, 1, 1, 1, 1, 0, 0, 0, 0, 0, 0, 0, 0, 0, 0, 0, 0, 0, 0, 0, 0, 0, 0, 0, 0, 0, 0, 0, 0, 0, 0, 0, 0, 0, 0, 0, 0, 0, 0, 0, 0, 0, 0, 0, 0, 0, 0, 0, 0, 0, 0, 0, 0, 0, 0, 0, 0, 0, 0, 0, 0, 0, 0, 0, 0, 0, 0, 0, 0, 0, 0, 0, 0, 0, 0, 0, 0, 0, 0, 0, 0, 0, 0, 0, 0, 0, 0, 0, 0, 0, 0, 0, 0, 0, 0, 0, 0, 0, 0, 0, 0, 0, 0, 0, 0, 0, 0, 0, 0, 0, 0, 0, 0, 0, 0, 0, 0, 0, 0, 0, 0, 0, 0, 0, 0, 0, 0, 0, 0, 0, 0, 0, 0, 0, 0, 0, 0, 0, 0, 0, 0, 0, 0, 0, 0, 0, 0, 0, 0, 0, 0, 0, 0, 0, 0, 0, 0, 0, 0, 0, 0, 0, 0, 0, 0, 0, 0, 0, 0, 0, 0, 0, 0, 0, 0, 0, 0, 0, 0, 0, 0, 0, 0, 0, 0, 0, 0, 0, 0, 0, 0, 0, 0, 0, 0, 0, 0, 0, 0, 0, 0, 0, 0, 0, 0, 0, 0, 0, 0, 0, 0, 0, 0, 0, 0, 0, 0, 0, 0, 0, 0, 0, 0, 0, 0, 0, 0, 0, 0, 0, 0, 0, 0, 0, 0, 0, 0, 0, 0, 0, 0, 0, 0, 0, 0, 0, 0, 0, 0, 0, 0, 0, 0, 0, 0, 0, 0, 0, 0, 0, 0, 0, 0, 0, 0, 0, 0, 0, 0, 0, 0, 0, 0, 0, 0, 0, 0, 0, 0, 0, 0, 0, 0, 0, 0, 0, 0, 0, 0, 0, 0, 0, 0, 0, 0, 0, 0, 0, 0, 0, 0, 0, 0, 0, 0, 0, 0, 0, 0, 0, 0, 0, 0, 0] [1476, 1960, 2412, 2828, 3179, 3491, 3766, 3970, 4392, 4758, 4996, 5336, 5888, 6225, 6299, 6499, 6732, 6756, 7103, 7226, 7359, 7762, 8451, 9558, 11337, 13576, 15971, 17492, 17903, 17981, 17886, 17530, 17072, 16850, 16691, 16442, 22592, 45643, 82157, 111770, 125957, 133831, 141942, 149692, 157179, 164585, 170994, 177265, 184051, 189431, 193653, 198114, 202819, 208077, 212463, 215678, 219179, 223759, 227684, 230481, 233441, 236972, 240964, 244762, 247934, 250822, 254041, 257047, 260058, 263551, 266879, 269698, 272268, 275815, 279319, 283609, 288992, 293800, 299069, 305154, 310011, 313345, 316575, 320060, 322341, 325257, 331049, 336284, 340144, 344891, 348727, 351081, 355498, 360567, 365598, 371780, 377553, 380726, 382680, 385152, 388664, 390896, 393574, 397516, 399752, 402834, 404787, 406220, 408674, 409122, 410860, 414798, 416894, 416394, 418166, 422630, 422466, 421328, 424116, 427572, 427850, 423778, 420958, 421556, 421044, 420532, 420812, 420482, 422040, 424276, 423494, 422684, 425072, 429282, 432676, 434380, 438512, 444420, 449360, 452048, 452738, 454094, 456364, 456022, 455478, 456174, 457090, 457494, 457032, 457290, 458818, 459622, 457316, 454012, 451430, 448914, 448664, 449862, 449364, 449414, 450012, 450096, 451234, 453156, 457960, 466834, 472506, 472320, 471926, 472616, 470686, 465182, 461104, 459346, 458014, 456498, 453368, 451964, 452192, 451566, 451114, 453634, 454160, 453514, 452714, 452794, 457870, 460438, 460676, 461756, 461682, 461846, 464662, 467772, 468156, 468224, 469974, 473266, 475786, 477244, 478014, 479972, 483920, 485772, 486646, 489926, 492246, 494744, 497192, 498178, 499452, 500556, 502550, 505070, 507952, 511850, 513582, 513164, 513828, 516682, 518892, 518842, 518374, 517018, 520090, 522296, 519166, 516036, 518712, 521906, 519586, 516502, 516736, 520868, 520418, 517906, 515710, 514178, 515672, 515952, 516644, 517870, 516816, 517038, 519488, 520132, 520730, 521680, 521062, 519926, 522558, 527126, 524138, 520480, 522580, 520542, 518121, 518069, 515469, 516061, 518945, 517387, 516729, 520976, 519668, 516358, 516139, 515251, 516880, 519437, 519801, 519666, 521904, 519788, 518814, 520246, 518972, 517800, 516056, 516694, 519128, 519456, 519544, 515200, 512382, 515668, 517256, 517180, 517120, 516002, 515840, 517308, 516866, 516570, 517896, 518366, 514530, 512486, 512358, 509864, 505766, 499178, 492172, 486696, 482334, 478820, 475808, 472834, 469234, 468852, 469232, 464542, 459902, 459356, 459450, 458360, 459964, 463644, 466808, 466904, 466588, 467826, 468420, 470412, 474570, 476676, 476976, 481600, 485486, 488210, 493074, 491404, 484722, 482998, 483922, 482220, 477888, 473956, 471128, 468178, 464708, 462000, 465640, 469336, 467038, 465214, 464110, 461100, 461000, 464146, 465222, 461830, 458840, 455184, 450088, 447992, 447538, 446500, 443022, 440490, 440046, 438560, 436908, 435944, 434442, 432686, 431976, 430076, 427064, 427078, 427428, 423376, 421530, 424970, 424732, 418822, 412042, 407320, 405212, 404206, 402348, 397884, 391886, 387652, 383796, 379072, 375266, 371192, 366752, 363446, 359206, 354976, 352486, 350380, 345500, 336998, 328910, 321944, 314578, 307814, 302444, 297860, 293352, 289100, 281926, 271774, 263434, 256126, 247436, 237418, 224118, 204396, 176416, 138084, 100178, 82214, 80640, 81192, 83330, 90576, 104086, 119496, 125804, 106290, 69561, 43833, 32387, 28633, 28391, 28336, 27661, 27107, 27154, 27429, 27129, 26708, 26906, 26953, 26835, 26800, 26635, 26508, 26636, 26903, 27675, 28803, 30594, 32574, 35956, 40283, 45365, 50465, 56100, 61205, 68788, 76949, 85478, 94780, 102952, 112157, 120460, 128068, 136861, 148308, 165363, 194414, 223060, 225878, 204043, 170704, 124475, 71162, 34237, 22954, 21830, 21387, 20707, 20054, 19393, 19239, 18875, 18335, 18032, 17622, 17518, 17256, 16701, 16240, 16152, 15981, 15671, 15494, 14985, 14765, 14347, 14169, 13834, 13646, 12949, 12467, 11783, 11167, 10715, 10109, 9451, 8937, 8242, 7324, 6659, 5936, 4774, 3376, -316.200012]\n"
     ]
    }
   ],
   "source": [
    "model = RandomForestClassifier(random_state=seed)\n",
    "model.fit(X_train, y_train)\n",
    "predicted = model.predict(X_test)\n",
    "predicted_prob = model.predict_proba(X_test)\n",
    "# print 'log loss', log_loss(y_test, predicted)\n",
    "print 'accuracy score', accuracy_score(y_test, predicted)\n",
    "\n",
    "print predicted, y_test, X[0]"
   ]
  },
  {
   "cell_type": "code",
   "execution_count": 72,
   "metadata": {
    "collapsed": false
   },
   "outputs": [],
   "source": [
    "# sample = pd.read_csv('./stage1_sample_submission.csv')\n",
    "# test_ids = sample['id']\n",
    "# print test_ids\n",
    "# print np.sum(predicted_prob)\n",
    "# predicted = model.predict(X_test)\n",
    "# sample['cancer'] = \n",
    "# sample.to_csv('submission2.csv', index=False)\n"
   ]
  },
  {
   "cell_type": "code",
   "execution_count": 40,
   "metadata": {
    "collapsed": false
   },
   "outputs": [
    {
     "data": {
      "text/html": [
       "<div>\n",
       "<table border=\"1\" class=\"dataframe\">\n",
       "  <thead>\n",
       "    <tr style=\"text-align: right;\">\n",
       "      <th></th>\n",
       "      <th>id</th>\n",
       "      <th>image</th>\n",
       "      <th>label</th>\n",
       "      <th>feat</th>\n",
       "    </tr>\n",
       "  </thead>\n",
       "  <tbody>\n",
       "    <tr>\n",
       "      <th>0</th>\n",
       "      <td>00cba091fa4ad62cc3200a657aeb957e</td>\n",
       "      <td>034673134cbef5ea15ff9e0c8090500a.dcm</td>\n",
       "      <td>0</td>\n",
       "      <td>[1476, 1960, 2412, 2828, 3179, 3491, 3766, 397...</td>\n",
       "    </tr>\n",
       "    <tr>\n",
       "      <th>1</th>\n",
       "      <td>00cba091fa4ad62cc3200a657aeb957e</td>\n",
       "      <td>0484f5a7f55eb7b6743cadaffcce586d.dcm</td>\n",
       "      <td>0</td>\n",
       "      <td>[1208, 1630, 2088, 2464, 2663, 3042, 3307, 355...</td>\n",
       "    </tr>\n",
       "    <tr>\n",
       "      <th>2</th>\n",
       "      <td>00cba091fa4ad62cc3200a657aeb957e</td>\n",
       "      <td>053a0460fb45227bd8e0e7b514a71e8e.dcm</td>\n",
       "      <td>0</td>\n",
       "      <td>[1318, 1700, 2176, 2641, 2930, 3107, 3308, 366...</td>\n",
       "    </tr>\n",
       "    <tr>\n",
       "      <th>3</th>\n",
       "      <td>00cba091fa4ad62cc3200a657aeb957e</td>\n",
       "      <td>0678ae61b7c56dfaf35477f6d01a6ffc.dcm</td>\n",
       "      <td>0</td>\n",
       "      <td>[1426, 1894, 2428, 2789, 3061, 3444, 3835, 397...</td>\n",
       "    </tr>\n",
       "    <tr>\n",
       "      <th>4</th>\n",
       "      <td>00cba091fa4ad62cc3200a657aeb957e</td>\n",
       "      <td>06ba0baeb0f26fb7aed5249eebbb77a9.dcm</td>\n",
       "      <td>0</td>\n",
       "      <td>[1376, 2032, 2398, 2750, 3256, 4247, 5684, 736...</td>\n",
       "    </tr>\n",
       "    <tr>\n",
       "      <th>5</th>\n",
       "      <td>00cba091fa4ad62cc3200a657aeb957e</td>\n",
       "      <td>0791f624c2f313bfe490ac940947977e.dcm</td>\n",
       "      <td>0</td>\n",
       "      <td>[1292, 1842, 2274, 2495, 2887, 3180, 3346, 347...</td>\n",
       "    </tr>\n",
       "    <tr>\n",
       "      <th>6</th>\n",
       "      <td>00cba091fa4ad62cc3200a657aeb957e</td>\n",
       "      <td>08eb3a007acc90a45b6e1b92fb479adc.dcm</td>\n",
       "      <td>0</td>\n",
       "      <td>[1260, 1786, 2004, 2411, 2659, 2836, 3144, 338...</td>\n",
       "    </tr>\n",
       "    <tr>\n",
       "      <th>7</th>\n",
       "      <td>00cba091fa4ad62cc3200a657aeb957e</td>\n",
       "      <td>090173a7ed57a872b62fd7c0b1d24be5.dcm</td>\n",
       "      <td>0</td>\n",
       "      <td>[1200, 1710, 1908, 2231, 2570, 2875, 3129, 332...</td>\n",
       "    </tr>\n",
       "    <tr>\n",
       "      <th>8</th>\n",
       "      <td>00cba091fa4ad62cc3200a657aeb957e</td>\n",
       "      <td>0a291d1b12b86213d813e3796f14b329.dcm</td>\n",
       "      <td>0</td>\n",
       "      <td>[1194, 1836, 2036, 2313, 2623, 2952, 3135, 331...</td>\n",
       "    </tr>\n",
       "    <tr>\n",
       "      <th>9</th>\n",
       "      <td>00cba091fa4ad62cc3200a657aeb957e</td>\n",
       "      <td>0af07f64d14d6b0451036cc742a96fbf.dcm</td>\n",
       "      <td>0</td>\n",
       "      <td>[1130, 1550, 1974, 2153, 2566, 2883, 2988, 325...</td>\n",
       "    </tr>\n",
       "  </tbody>\n",
       "</table>\n",
       "</div>"
      ],
      "text/plain": [
       "                                 id                                 image  \\\n",
       "0  00cba091fa4ad62cc3200a657aeb957e  034673134cbef5ea15ff9e0c8090500a.dcm   \n",
       "1  00cba091fa4ad62cc3200a657aeb957e  0484f5a7f55eb7b6743cadaffcce586d.dcm   \n",
       "2  00cba091fa4ad62cc3200a657aeb957e  053a0460fb45227bd8e0e7b514a71e8e.dcm   \n",
       "3  00cba091fa4ad62cc3200a657aeb957e  0678ae61b7c56dfaf35477f6d01a6ffc.dcm   \n",
       "4  00cba091fa4ad62cc3200a657aeb957e  06ba0baeb0f26fb7aed5249eebbb77a9.dcm   \n",
       "5  00cba091fa4ad62cc3200a657aeb957e  0791f624c2f313bfe490ac940947977e.dcm   \n",
       "6  00cba091fa4ad62cc3200a657aeb957e  08eb3a007acc90a45b6e1b92fb479adc.dcm   \n",
       "7  00cba091fa4ad62cc3200a657aeb957e  090173a7ed57a872b62fd7c0b1d24be5.dcm   \n",
       "8  00cba091fa4ad62cc3200a657aeb957e  0a291d1b12b86213d813e3796f14b329.dcm   \n",
       "9  00cba091fa4ad62cc3200a657aeb957e  0af07f64d14d6b0451036cc742a96fbf.dcm   \n",
       "\n",
       "   label                                               feat  \n",
       "0      0  [1476, 1960, 2412, 2828, 3179, 3491, 3766, 397...  \n",
       "1      0  [1208, 1630, 2088, 2464, 2663, 3042, 3307, 355...  \n",
       "2      0  [1318, 1700, 2176, 2641, 2930, 3107, 3308, 366...  \n",
       "3      0  [1426, 1894, 2428, 2789, 3061, 3444, 3835, 397...  \n",
       "4      0  [1376, 2032, 2398, 2750, 3256, 4247, 5684, 736...  \n",
       "5      0  [1292, 1842, 2274, 2495, 2887, 3180, 3346, 347...  \n",
       "6      0  [1260, 1786, 2004, 2411, 2659, 2836, 3144, 338...  \n",
       "7      0  [1200, 1710, 1908, 2231, 2570, 2875, 3129, 332...  \n",
       "8      0  [1194, 1836, 2036, 2313, 2623, 2952, 3135, 331...  \n",
       "9      0  [1130, 1550, 1974, 2153, 2566, 2883, 2988, 325...  "
      ]
     },
     "execution_count": 40,
     "metadata": {},
     "output_type": "execute_result"
    }
   ],
   "source": [
    "df.head(10)"
   ]
  },
  {
   "cell_type": "code",
   "execution_count": null,
   "metadata": {
    "collapsed": false
   },
   "outputs": [],
   "source": []
  },
  {
   "cell_type": "code",
   "execution_count": null,
   "metadata": {
    "collapsed": false
   },
   "outputs": [],
   "source": []
  }
 ],
 "metadata": {
  "anaconda-cloud": {},
  "kernelspec": {
   "display_name": "Python 2",
   "language": "python",
   "name": "python2"
  },
  "language_info": {
   "codemirror_mode": {
    "name": "ipython",
    "version": 2
   },
   "file_extension": ".py",
   "mimetype": "text/x-python",
   "name": "python",
   "nbconvert_exporter": "python",
   "pygments_lexer": "ipython2",
   "version": "2.7.10"
  }
 },
 "nbformat": 4,
 "nbformat_minor": 0
}
