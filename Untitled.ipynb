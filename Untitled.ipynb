{
 "cells": [
  {
   "cell_type": "code",
   "execution_count": 1,
   "metadata": {
    "collapsed": false
   },
   "outputs": [
    {
     "ename": "ImportError",
     "evalue": "No module named cv2",
     "output_type": "error",
     "traceback": [
      "\u001b[0;31m---------------------------------------------------------------------------\u001b[0m",
      "\u001b[0;31mImportError\u001b[0m                               Traceback (most recent call last)",
      "\u001b[0;32m<ipython-input-1-8a3cf5195dde>\u001b[0m in \u001b[0;36m<module>\u001b[0;34m()\u001b[0m\n\u001b[1;32m      4\u001b[0m \u001b[0;32mimport\u001b[0m \u001b[0mpylab\u001b[0m\u001b[0;34m\u001b[0m\u001b[0m\n\u001b[1;32m      5\u001b[0m \u001b[0;32mimport\u001b[0m \u001b[0mdicom\u001b[0m\u001b[0;34m\u001b[0m\u001b[0m\n\u001b[0;32m----> 6\u001b[0;31m \u001b[0;32mimport\u001b[0m \u001b[0mcv2\u001b[0m\u001b[0;34m\u001b[0m\u001b[0m\n\u001b[0m\u001b[1;32m      7\u001b[0m \u001b[0;32mimport\u001b[0m \u001b[0mos\u001b[0m\u001b[0;34m\u001b[0m\u001b[0m\n\u001b[1;32m      8\u001b[0m \u001b[0;32mimport\u001b[0m \u001b[0mmatplotlib\u001b[0m\u001b[0;34m.\u001b[0m\u001b[0mpyplot\u001b[0m \u001b[0;32mas\u001b[0m \u001b[0mplt\u001b[0m\u001b[0;34m\u001b[0m\u001b[0m\n",
      "\u001b[0;31mImportError\u001b[0m: No module named cv2"
     ]
    }
   ],
   "source": [
    "import numpy as np\n",
    "import pandas as pd\n",
    "import matplotlib\n",
    "import pylab\n",
    "import dicom\n",
    "import cv2\n",
    "import os\n",
    "import matplotlib.pyplot as plt\n",
    "from skimage import data, io, filters\n",
    "\n",
    "from IPython.display import HTML\n",
    "import matplotlib.animation as animation\n",
    "\n",
    "%matplotlib nbagg\n",
    "%matplotlib inline\n",
    "matplotlib.rcParams['figure.figsize'] = (10.0, 10.0)\n",
    "\n",
    "%config InlineBackend.figure_format = 'retina'\n",
    "\n",
    "os.chdir(\"../sample_images\")\n",
    "files = os.listdir('.')"
   ]
  },
  {
   "cell_type": "code",
   "execution_count": 2,
   "metadata": {
    "collapsed": false,
    "scrolled": false
   },
   "outputs": [
    {
     "name": "stdout",
     "output_type": "stream",
     "text": [
      "\n",
      "Please wait a moment while I gather a list of all available modules...\n",
      "\n"
     ]
    },
    {
     "name": "stderr",
     "output_type": "stream",
     "text": [
      "/Library/Python/2.7/site-packages/IPython/kernel/__init__.py:13: ShimWarning: The `IPython.kernel` package has been deprecated. You should import from ipykernel or jupyter_client instead.\n",
      "  \"You should import from ipykernel or jupyter_client instead.\", ShimWarning)\n",
      "Using TensorFlow backend.\n",
      "/Library/Python/2.7/site-packages/matplotlib/cbook.py:136: MatplotlibDeprecationWarning: The matplotlib.delaunay module was deprecated in version 1.4. Use matplotlib.tri.Triangulation instead.\n",
      "  warnings.warn(message, mplDeprecation, stacklevel=1)\n",
      "/System/Library/Frameworks/Python.framework/Versions/2.7/lib/python2.7/pkgutil.py:110: FutureWarning: The pandas.rpy module is deprecated and will be removed in a future version. We refer to external packages like rpy2. \n",
      "See here for a guide on how to port your code to rpy2: http://pandas.pydata.org/pandas-docs/stable/r_interface.html\n",
      "  __import__(name)\n",
      "/Library/Python/2.7/site-packages/skimage/filter/__init__.py:6: skimage_deprecation: The `skimage.filter` module has been renamed to `skimage.filters`.  This placeholder module will be removed in v0.13.\n",
      "  warn(skimage_deprecation('The `skimage.filter` module has been renamed '\n",
      "/Library/Python/2.7/site-packages/skimage/viewer/__init__.py:6: UserWarning: Viewer requires Qt\n",
      "  warn('Viewer requires Qt')\n"
     ]
    },
    {
     "name": "stdout",
     "output_type": "stream",
     "text": [
      "AVFoundation        _hashlib            flask               py_compile\n",
      "Accounts            _heapq              flask_login         pyclbr\n",
      "AddressBook         _hotshot            flask_sqlalchemy    pydoc\n",
      "AppKit              _io                 fnmatch             pydoc_data\n",
      "AppleScriptKit      _json               formatter           pyexpat\n",
      "AppleScriptObjC     _locale             fpformat            pygments\n",
      "Audio_mac           _lsprof             fractions           pylab\n",
      "Automator           _multibytecodec     ftplib              pyparsing\n",
      "BaseHTTPServer      _multiprocessing    funcsigs            pytz\n",
      "Bastion             _osx_support        functools           pyximport\n",
      "CFNetwork           _posixsubprocess    functools32         quopri\n",
      "CFOpenDirectory     _pyio               future_builtins     random\n",
      "CGIHTTPServer       _random             gc                  re\n",
      "Canvas              _scandir            genericpath         readline\n",
      "Carbon              _scproxy            gensuitemodule      repr\n",
      "Cocoa               _socket             geopy               requests\n",
      "CodeWarrior         _sqlite3            gestalt             resource\n",
      "Collaboration       _sre                getopt              rexec\n",
      "ColorPicker         _ssl                getpass             rfc822\n",
      "ConfigParser        _strptime           gettext             rlcompleter\n",
      "Cookie              _struct             glob                rmagic\n",
      "CoreData            _symtable           grp                 robotparser\n",
      "CoreFoundation      _sysconfigdata      gzip                runpy\n",
      "CoreGraphics        _testcapi           hashlib             scandir\n",
      "CoreLocation        _threading_local    heapq               sched\n",
      "CoreText            _tkinter            hmac                scipy\n",
      "Cython              _warnings           hotshot             select\n",
      "Dialog              _weakref            html5lib            selenium\n",
      "DictionaryServices  _weakrefset         htmlentitydefs      sets\n",
      "DocXMLRPCServer     abc                 htmllib             setuptools\n",
      "EasyDialogs         aepack              httplib             sgmllib\n",
      "EventKit            aetools             ic                  sha\n",
      "ExceptionHandling   aetypes             icglue              shelve\n",
      "Explorer            aifc                icopen              shlex\n",
      "FSEvents            alabaster           idlelib             shutil\n",
      "FileDialog          altgraph            ihooks              shutil_backports\n",
      "Finder              antigravity         imageop             signal\n",
      "FixTk               anydbm              imagesize           simplegeneric\n",
      "Foundation          appdirs             imaplib             singledispatch\n",
      "FrameWork           appium              imghdr              singledispatch_helpers\n",
      "HTMLParser          applesingle         imp                 site\n",
      "IN                  appletrawmain       importlib           six\n",
      "IPython             appletrunner        imputil             skimage\n",
      "InputMethodKit      appnope             inspect             sklearn\n",
      "InstallerPlugins    apscheduler         io                  smtpd\n",
      "InstantMessage      argparse            ipykernel           smtplib\n",
      "JavaScriptCore      argvemulator        ipython_genutils    sndhdr\n",
      "LatentSemanticMapping array               itertools           snowballstemmer\n",
      "LaunchServices      ast                 itsdangerous        socket\n",
      "Lung_Cancer_Analysis asynchat            jinja2              sphinx\n",
      "MacOS               asyncore            json                sqlalchemy\n",
      "Message             atexit              jsonschema          sqlite3\n",
      "MimeWriter          audiodev            jupyter             sre\n",
      "MiniAEFrame         audioop             jupyter_client      sre_compile\n",
      "Nav                 autoGIL             jupyter_contrib_core sre_constants\n",
      "Netscape            autoreload          jupyter_contrib_nbextensions sre_parse\n",
      "OSATerminology      babel               jupyter_core        ssl\n",
      "OleFileIO_PL        backports           jupyter_highlight_selected_word stat\n",
      "OpenDirectory       backports_abc       jupyter_nbextensions_configurator statvfs\n",
      "OpenSSL             base64              keras               storemagic\n",
      "PIL                 bdb                 keyword             string\n",
      "PixMapWrapper       bdist_mpkg          latex_envs          stringold\n",
      "PreferencePanes     bgenlocations       lib2to3             stringprep\n",
      "PubSub              binascii            linecache           strop\n",
      "PyObjCTools         binhex              locale              struct\n",
      "QTKit               bisect              logging             subprocess\n",
      "Quartz              bleach              macerrors           subprocess32\n",
      "Queue               bonjour             macholib            sunau\n",
      "ScreenSaver         boto                macostools          sunaudio\n",
      "ScriptingBridge     bottle              macpath             symbol\n",
      "ScrolledText        bs4                 macresource         sympyprinting\n",
      "SearchKit           bsddb               macurl2path         symtable\n",
      "ServiceManagement   bsddb185            mailbox             sys\n",
      "SimpleDialog        buildtools          mailcap             sysconfig\n",
      "SimpleHTTPServer    bundlebuilder       markupbase          syslog\n",
      "SimpleITK           bz2                 markupsafe          tabnanny\n",
      "SimpleXMLRPCServer  cPickle             marshal             tarfile\n",
      "Social              cProfile            marshmallow         telnetlib\n",
      "SocketServer        cStringIO           math                tempfile\n",
      "StdSuites           calendar            matplotlib          tensorflow\n",
      "StringIO            certifi             md5                 terminado\n",
      "SyncServices        cfmfile             mglearn             terminalcommand\n",
      "SystemConfiguration cgi                 mhlib               termios\n",
      "SystemEvents        cgitb               mimetools           test\n",
      "Tix                 chunk               mimetypes           testpath\n",
      "Tkconstants         click               mimify              tests\n",
      "Tkdnd               cmath               mistune             textwrap\n",
      "Tkinter             cmd                 mmap                theano\n",
      "UserDict            code                mock                this\n",
      "UserList            codecs              modulefinder        thread\n",
      "UserString          codeop              modulegraph         threading\n",
      "VBoxPython2_5       collections         multifile           time\n",
      "VBoxPython2_6       colorsys            multiprocessing     timeit\n",
      "VBoxPython2_7       commands            mutex               tkColorChooser\n",
      "WebKit              compileall          nbconvert           tkCommonDialog\n",
      "_AE                 compiler            nbformat            tkFileDialog\n",
      "_AH                 concurrent          netrc               tkFont\n",
      "_App                configparser        networkx            tkMessageBox\n",
      "_CF                 contextlib          new                 tkSimpleDialog\n",
      "_CG                 cookielib           nis                 toaiff\n",
      "_CarbonEvt          copy                nntplib             token\n",
      "_Cm                 copy_reg            nose                tokenize\n",
      "_Ctl                coverage            notebook            tornado\n",
      "_Dlg                crypt               ntpath              trace\n",
      "_Drag               csv                 nturl2path          traceback\n",
      "_Evt                ctypes              numbers             traitlets\n",
      "_File               curses              numpy               ttk\n",
      "_Fm                 cv                  numpydoc            tty\n",
      "_Folder             cv2                 objc                turtle\n",
      "_Help               cycler              olefile             twisted\n",
      "_IBCarbon           cython              opcode              types\n",
      "_Icn                cythonmagic         operator            tzlocal\n",
      "_LWPCookieJar       datetime            optparse            unicodedata\n",
      "_Launch             dateutil            os                  unittest\n",
      "_List               dbhash              os2emxpath          urllib\n",
      "_Menu               dbm                 packaging           urllib2\n",
      "_Mlte               decimal             pandas              urllib3\n",
      "_MozillaCookieJar   decorator           pandocfilters       urlparse\n",
      "_OSA                dicom               parser              user\n",
      "_Qd                 difflib             pathlib2            uu\n",
      "_Qdoffs             dircache            pbr                 uuid\n",
      "_Qt                 dis                 pdb                 vboxapi\n",
      "_Res                distutils           pexpect             vboxshell\n",
      "_Scrap              django              pickle              videoreader\n",
      "_Snd                djorm_pgfulltext    pickleshare         warnings\n",
      "_TE                 djrill              pickletools         wave\n",
      "_Win                dl                  pimp                wcwidth\n",
      "__builtin__         docopt              pip                 weakref\n",
      "__future__          doctest             pipes               webbrowser\n",
      "_abcoll             docutils            pkg_resources       werkzeug\n",
      "_ast                dumbdbm             pkgutil             wheel\n",
      "_bisect             dummy_thread        platform            whichdb\n",
      "_builtinSuites      dummy_threading     plistlib            wsgiref\n",
      "_codecs             easy_install        popen2              xattr\n",
      "_codecs_cn          elasticsearch       poplib              xdrlib\n",
      "_codecs_hk          email               posix               xlrd\n",
      "_codecs_iso2022     encodings           posixfile           xml\n",
      "_codecs_jp          ensurepip           posixpath           xmllib\n",
      "_codecs_kr          entrypoints         pprint              xmlrpclib\n",
      "_codecs_tw          enum                profile             xxsubtype\n",
      "_collections        errno               prompt_toolkit      yaml\n",
      "_csv                exceptions          pstats              zipfile\n",
      "_ctypes             external            psutil              zipimport\n",
      "_ctypes_test        f                   psycopg2            zlib\n",
      "_curses             fcntl               pty                 zmq\n",
      "_curses_panel       filecmp             ptyprocess          zope\n",
      "_elementtree        fileinput           pwd                 \n",
      "_functools          findertools         py2app              \n",
      "\n",
      "Enter any module name to get more help.  Or, type \"modules spam\" to search\n",
      "for modules whose descriptions contain the word \"spam\".\n",
      "\n"
     ]
    }
   ],
   "source": [
    "help('modules')"
   ]
  },
  {
   "cell_type": "code",
   "execution_count": 10,
   "metadata": {
    "collapsed": false
   },
   "outputs": [
    {
     "data": {
      "text/plain": [
       "sys.flags(debug=0, py3k_warning=0, division_warning=0, division_new=0, inspect=0, interactive=0, optimize=0, dont_write_bytecode=0, no_user_site=0, no_site=0, ignore_environment=0, tabcheck=0, verbose=0, unicode=0, bytes_warning=0, hash_randomization=0)"
      ]
     },
     "execution_count": 10,
     "metadata": {},
     "output_type": "execute_result"
    }
   ],
   "source": [
    "import sys\n",
    "sys.version\n",
    "sys.flags"
   ]
  },
  {
   "cell_type": "code",
   "execution_count": null,
   "metadata": {
    "collapsed": true
   },
   "outputs": [],
   "source": []
  }
 ],
 "metadata": {
  "kernelspec": {
   "display_name": "Python 2",
   "language": "python",
   "name": "python2"
  },
  "language_info": {
   "codemirror_mode": {
    "name": "ipython",
    "version": 2
   },
   "file_extension": ".py",
   "mimetype": "text/x-python",
   "name": "python",
   "nbconvert_exporter": "python",
   "pygments_lexer": "ipython2",
   "version": "2.7.10"
  }
 },
 "nbformat": 4,
 "nbformat_minor": 2
}
